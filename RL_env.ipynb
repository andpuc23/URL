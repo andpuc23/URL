{
 "cells": [
  {
   "cell_type": "code",
   "execution_count": 4,
   "id": "28f7371c",
   "metadata": {},
   "outputs": [],
   "source": [
    "import numpy as np\n",
    "import cv2\n",
    "\n",
    "from rl_socket import Agent, Environment, Camera"
   ]
  },
  {
   "cell_type": "markdown",
   "id": "6d0bbb84",
   "metadata": {},
   "source": [
    "Example of camera's point projection"
   ]
  },
  {
   "cell_type": "code",
   "execution_count": 9,
   "id": "7d68855b",
   "metadata": {},
   "outputs": [],
   "source": [
    "camera_mat = np.array([[633.0902963939839, 0, 629.0646296262861],\n",
    "                        [0, 638.754439101168, 362.7401326185789],\n",
    "                        [0, 0, 1]])\n",
    "camera_dist = np.array([-0.04797802,  0.04744357,  0.00017416,  0.00067967, -0.00408397])"
   ]
  },
  {
   "cell_type": "code",
   "execution_count": 46,
   "id": "a81e96bf",
   "metadata": {},
   "outputs": [],
   "source": [
    "camera = Camera(camera_mat, camera_dist)\n",
    "agent = Agent(np.array([0., 0., 0.]), np.array([-np.pi / 2, 0., -np.pi / 2]), camera, np.array([[1, 1], [-1, 1], [0, -1]]), None)"
   ]
  },
  {
   "cell_type": "code",
   "execution_count": 51,
   "id": "2a3d9f1e",
   "metadata": {},
   "outputs": [],
   "source": [
    "points = np.array([[10, 0, 0]], dtype=np.float32)"
   ]
  },
  {
   "cell_type": "code",
   "execution_count": 53,
   "id": "513dc3e8",
   "metadata": {},
   "outputs": [],
   "source": [
    "points_proj = camera.project_points(points, agent.tvec, agent.rvec)"
   ]
  },
  {
   "cell_type": "code",
   "execution_count": 54,
   "id": "a0542a3b",
   "metadata": {},
   "outputs": [
    {
     "data": {
      "text/plain": [
       "array([[[629.06464, 362.74014]]], dtype=float32)"
      ]
     },
     "execution_count": 54,
     "metadata": {},
     "output_type": "execute_result"
    }
   ],
   "source": [
    "points_proj"
   ]
  },
  {
   "cell_type": "code",
   "execution_count": 2,
   "id": "ba0dd763",
   "metadata": {},
   "outputs": [],
   "source": [
    "from scipy.stats import norm"
   ]
  },
  {
   "cell_type": "code",
   "execution_count": 7,
   "id": "cd72ceb9",
   "metadata": {},
   "outputs": [
    {
     "data": {
      "text/plain": [
       "39.89422804014327"
      ]
     },
     "execution_count": 7,
     "metadata": {},
     "output_type": "execute_result"
    }
   ],
   "source": [
    "norm.pdf(0) * 100"
   ]
  },
  {
   "cell_type": "code",
   "execution_count": null,
   "id": "1749a51c",
   "metadata": {},
   "outputs": [],
   "source": []
  },
  {
   "cell_type": "code",
   "execution_count": null,
   "id": "50de7ef5",
   "metadata": {},
   "outputs": [],
   "source": []
  },
  {
   "cell_type": "code",
   "execution_count": null,
   "id": "4d18955d",
   "metadata": {},
   "outputs": [],
   "source": []
  }
 ],
 "metadata": {
  "kernelspec": {
   "display_name": "Python 3.8.13 ('ml')",
   "language": "python",
   "name": "python3"
  },
  "language_info": {
   "codemirror_mode": {
    "name": "ipython",
    "version": 3
   },
   "file_extension": ".py",
   "mimetype": "text/x-python",
   "name": "python",
   "nbconvert_exporter": "python",
   "pygments_lexer": "ipython3",
   "version": "3.8.13"
  },
  "vscode": {
   "interpreter": {
    "hash": "45e6302f2b4ec81add0d3758726e649dffe43b2cfc8a72d111ea985a61503901"
   }
  }
 },
 "nbformat": 4,
 "nbformat_minor": 5
}
