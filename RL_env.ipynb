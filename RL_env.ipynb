{
 "cells": [
  {
   "cell_type": "code",
   "execution_count": null,
   "id": "28f7371c",
   "metadata": {},
   "outputs": [],
   "source": [
    "import numpy as np\n",
    "import cv2"
   ]
  },
  {
   "cell_type": "code",
   "execution_count": null,
   "id": "ef276cde",
   "metadata": {},
   "outputs": [],
   "source": [
    "class Camera:\n",
    "    def __init__(self):\n",
    "        pass\n",
    "    \n",
    "    \n",
    "    def project_points(self):\n",
    "        pass\n",
    "\n",
    "\n",
    "class Environment:\n",
    "    def __init__(self):\n",
    "        #set points' coords\n",
    "        pass\n",
    "    \n",
    "    def get_observation(self):\n",
    "        \"\"\"\n",
    "        returns points' coordinates on camera image\n",
    "        @return array of points': [(i1, j1), (i2, j2), ... (i6, j6)]\n",
    "        \"\"\"\n",
    "        pass\n",
    "    \n",
    "    def running_cost(self, projected_points_coords):\n",
    "        \"\"\"\n",
    "        returns sum of distances from true points to target values\n",
    "        @return float distance\n",
    "        \"\"\"\n",
    "        assert all([len(point) for point in projected_points_coords] == 2), \"you should pass points' pixel coords, not (x, y, z)!\"\n",
    "        pass\n",
    "    \n",
    "class Agent: #camera\n",
    "    def __init__(self):\n",
    "        self.coords = np.zeros(3, dtype=np.int32)\n",
    "        pass\n",
    "\n",
    "    def move(self, delta):\n",
    "        \"\"\"\n",
    "        adds delta to current camera coordinates\n",
    "        \"\"\"\n",
    "        pass\n",
    "    \n",
    "    "
   ]
  },
  {
   "cell_type": "code",
   "execution_count": null,
   "id": "8fc9c32a",
   "metadata": {},
   "outputs": [],
   "source": [
    "array([[-138.,   28.,  -46.],\n",
    "       [-138.,   43.,  -45.],\n",
    "       [-149.,   19.,  -45.],\n",
    "       [-149.,   51.,  -44.],\n",
    "       [-163.,   28.,  -45.],\n",
    "       [-163.,   43.,  -44.]])"
   ]
  }
 ],
 "metadata": {
  "kernelspec": {
   "display_name": "Python 3 (ipykernel)",
   "language": "python",
   "name": "python3"
  },
  "language_info": {
   "codemirror_mode": {
    "name": "ipython",
    "version": 3
   },
   "file_extension": ".py",
   "mimetype": "text/x-python",
   "name": "python",
   "nbconvert_exporter": "python",
   "pygments_lexer": "ipython3",
   "version": "3.8.13"
  }
 },
 "nbformat": 4,
 "nbformat_minor": 5
}
