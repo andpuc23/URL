{
 "cells": [
  {
   "cell_type": "code",
   "execution_count": 7,
   "metadata": {},
   "outputs": [],
   "source": [
    "from tqdm.notebook import tqdm\n",
    "from typing import List\n",
    "\n",
    "import numpy as np\n",
    "\n",
    "import torch\n",
    "\n",
    "from camera_transition import CameraTransition\n",
    "from models import ActorImprovedValue, CriticTD"
   ]
  },
  {
   "cell_type": "code",
   "execution_count": 5,
   "metadata": {},
   "outputs": [],
   "source": [
    "optimizer_critic_kind = torch.optim.Adam\n",
    "optimizer_critic_parameters = {\n",
    "    'lr': 5e-4,\n",
    "    'weight_decay': .0\n",
    "}\n",
    "\n",
    "optimizer_actor_kind = torch.optim.Adam\n",
    "optimizer_actor_parameters = {\n",
    "    \"lr\" : 0.001,\n",
    "    \"weight_decay\" : 0.0\n",
    "}\n",
    "\n",
    "device = 'cuda' if torch.cuda.is_available() else 'cpu'\n",
    "\n",
    "critic_iterations = 2000\n",
    "critic_batch_size = 1000\n",
    "\n",
    "actor_iterations = 400\n",
    "actor_batch_size = 4000\n",
    "\n",
    "epochs = 6"
   ]
  },
  {
   "cell_type": "code",
   "execution_count": null,
   "metadata": {},
   "outputs": [],
   "source": [
    "def critic_epoch(optimizer: torch.optim.Optimizer,\n",
    "                 model: CriticTD, \n",
    "                 iterations: int, \n",
    "                 batch_size: int) -> List[float]:\n",
    "    losses = []\n",
    "    for iteration in tqdm(range(iterations), \"Critic epoch\"):\n",
    "        # Поменять на наши ограничения позиции\n",
    "        scales = torch.tensor([2.5, 2.5, 0.15, 0.15])\n",
    "        X = (torch.rand((batch_size, 6)) * scales * 2 - scales).to(device)\n",
    "        optimizer.zero_grad()\n",
    "        loss = model(X)\n",
    "        loss.backward()\n",
    "        optimizer.step()\n",
    "        losses.append(loss.detach().cpu().numpy())\n",
    "    print(\"Critic mean loss:\", np.mean(losses), \"[%f --> %f]\" % (np.mean(losses[0:10]), np.mean(losses[-10:-1])))\n",
    "    return losses\n",
    "\n",
    "def actor_epoch(optimizer: torch.optim.Optimizer,\n",
    "                 model: CriticTD, \n",
    "                 iterations: int, \n",
    "                 batch_size: int) -> List[float]:\n",
    "    values = []\n",
    "    for iteration in tqdm(range(iterations), \"Actor epoch\"):\n",
    "        # Поменять на наши ограничения позиции\n",
    "        scales = torch.tensor([2.5, 2.5, 0.15, 0.15])\n",
    "        X = (torch.rand((batch_size, 6)) * scales * 2 - scales).to(device)\n",
    "        optimizer.zero_grad()\n",
    "        improved_value = model(X)\n",
    "        improved_value.backward()\n",
    "        optimizer.step()\n",
    "        values.append(improved_value.detach().cpu().numpy())\n",
    "    print(\"Actor mean value:\", np.mean(values), \"[%f --> %f]\" % (np.mean(values[0:10]), np.mean(values[-10:-1])))\n",
    "    return values"
   ]
  },
  {
   "cell_type": "code",
   "execution_count": null,
   "metadata": {},
   "outputs": [],
   "source": [
    "for _ in tqdm(range(epochs), \"Actor-Critic learning\"):\n",
    "    optimizer_critic = optimizer_critic_kind(critic_temporal_difference.parameters(), **optimizer_critic_parameters) ## It is important to reinitialize the critic optimizer to erase irrelevant momenta and adaptations\n",
    "    values = np.array(critic_epoch(optimizer_critic, \n",
    "                                   critic_temporal_difference,\n",
    "                                   critic_iterations,\n",
    "                                   actor_batch_size))\n",
    "    actor_epoch(optimizer_actor, \n",
    "                actor_improved_value,\n",
    "                actor_iterations,\n",
    "                actor_batch_size)"
   ]
  },
  {
   "cell_type": "code",
   "execution_count": null,
   "metadata": {},
   "outputs": [],
   "source": []
  },
  {
   "cell_type": "code",
   "execution_count": null,
   "metadata": {},
   "outputs": [],
   "source": []
  },
  {
   "cell_type": "code",
   "execution_count": null,
   "metadata": {},
   "outputs": [],
   "source": []
  }
 ],
 "metadata": {
  "kernelspec": {
   "display_name": "Python 3.8.13 ('ml')",
   "language": "python",
   "name": "python3"
  },
  "language_info": {
   "codemirror_mode": {
    "name": "ipython",
    "version": 3
   },
   "file_extension": ".py",
   "mimetype": "text/x-python",
   "name": "python",
   "nbconvert_exporter": "python",
   "pygments_lexer": "ipython3",
   "version": "3.8.13"
  },
  "orig_nbformat": 4,
  "vscode": {
   "interpreter": {
    "hash": "45e6302f2b4ec81add0d3758726e649dffe43b2cfc8a72d111ea985a61503901"
   }
  }
 },
 "nbformat": 4,
 "nbformat_minor": 2
}
